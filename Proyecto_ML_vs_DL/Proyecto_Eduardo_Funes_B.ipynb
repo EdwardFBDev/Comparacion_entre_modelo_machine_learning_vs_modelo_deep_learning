{
 "cells": [
  {
   "cell_type": "markdown",
   "metadata": {
    "id": "UGm3AQlH4-5g"
   },
   "source": [
    "<h2><font size=6>Proyecto</font></h2>\n",
    "\n",
    "<h1><font size=5> Comparación entre un modelo de Machine Learning y un modelo de Deep Learning</font></h1>\n",
    "<br><br>\n",
    "<div style=\"text-align: right\">\n",
    "<font  size=4>Carlos Eduardo Funes Betancourt</font><br>\n",
    "<font  size=4>Machine Learning Avanzado con Python</font><br>"
   ]
  },
  {
   "cell_type": "markdown",
   "metadata": {
    "id": "MpFOZO835iks"
   },
   "source": [
    "### Objetivo\n",
    "- Construir un modelo de regresión lineal y un modelo de red neuronal simple.\n",
    "\n",
    "- Evaluar la relación entre la reducción de sólidos y la demanda de oxígeno químico.\n",
    "\n",
    "- Comparar los resultados obtenidos por ambos modelos en términos de error y capacidad predictiva.\n",
    "\n",
    "- Comprender las ventajas y limitaciones de cada enfoque en un problema de predicción numérica."
   ]
  },
  {
   "cell_type": "markdown",
   "metadata": {
    "id": "H0GZGPm_5Q_G"
   },
   "source": [
    "## Cargar Librerias"
   ]
  },
  {
   "cell_type": "code",
   "execution_count": 1,
   "metadata": {
    "executionInfo": {
     "elapsed": 12618,
     "status": "ok",
     "timestamp": 1727211807838,
     "user": {
      "displayName": "Carlos Eduardo Funes Betancourt",
      "userId": "08881453222472208633"
     },
     "user_tz": 360
    },
    "id": "4iDZQn9Z2Mn3"
   },
   "outputs": [],
   "source": [
    "import tensorflow as tf\n",
    "import numpy as np\n",
    "import matplotlib.pyplot as plt\n",
    "from sklearn.linear_model import LinearRegression\n",
    "from sklearn.metrics import mean_squared_error, r2_score\n",
    "from sklearn.model_selection import train_test_split\n",
    "import pandas as pd\n",
    "from sklearn.model_selection import train_test_split\n",
    "from sklearn.linear_model import LinearRegression\n",
    "from sklearn.metrics import mean_squared_error, r2_score"
   ]
  },
  {
   "cell_type": "markdown",
   "metadata": {
    "id": "IFEJSdLH3wlh"
   },
   "source": [
    "## Datos de Entrada\n",
    "\n",
    "Se generaron datos simulados que representan medidas de reducción de sólidos y demanda de oxígeno químico."
   ]
  },
  {
   "cell_type": "code",
   "execution_count": 2,
   "metadata": {
    "executionInfo": {
     "elapsed": 4,
     "status": "ok",
     "timestamp": 1727211807838,
     "user": {
      "displayName": "Carlos Eduardo Funes Betancourt",
      "userId": "08881453222472208633"
     },
     "user_tz": 360
    },
    "id": "z05z4uq15kei"
   },
   "outputs": [],
   "source": [
    "# datos de entrada\n",
    "reduce_solid = np.array([3,7,11,15,18,27,29,30,30,31, # X\n",
    "                         31,32,33,33,34,36,36,36,37,38,\n",
    "                         39,39,39,40,41,42,42,43,44,45,\n",
    "                         46,47,50], dtype=float)\n",
    "# datos de entrenamiento y de predecir\n",
    "reduce_demand_oxygen = np.array([5,11,21,16,16,28,27,25,35,30,  # y\n",
    "                                40,32,34,32,34,37,38,34,36,38,\n",
    "                                37,36,45,39,41,40,44,37, 44,46,\n",
    "                                46,49,51], dtype=float)"
   ]
  },
  {
   "cell_type": "markdown",
   "metadata": {
    "id": "_tkHOlTs52eX"
   },
   "source": [
    "- (reduce_solid): Reducción de sólidos, que es nuestra característica de entrada.\n",
    "- (reduce_demand_oxygen): Demanda de oxígeno, que es nuestra variable objetivo."
   ]
  },
  {
   "cell_type": "code",
   "execution_count": 3,
   "metadata": {
    "executionInfo": {
     "elapsed": 3,
     "status": "ok",
     "timestamp": 1727211807838,
     "user": {
      "displayName": "Carlos Eduardo Funes Betancourt",
      "userId": "08881453222472208633"
     },
     "user_tz": 360
    },
    "id": "iesSlcsS5x6v"
   },
   "outputs": [],
   "source": [
    "X = reduce_solid.reshape(-1,1) # caracteristica de entrada\n",
    "y = reduce_demand_oxygen  # nuestro target"
   ]
  },
  {
   "cell_type": "markdown",
   "metadata": {
    "id": "KfpD0l265g_G"
   },
   "source": [
    "se utiliza '.reshape(-1,1) ' para convertir los datos de entrada a la forma adecuada para el modelo"
   ]
  },
  {
   "cell_type": "markdown",
   "metadata": {
    "id": "3Vg2KXGg-yND"
   },
   "source": [
    "# Entrenar un modelo de Machine Learning (Regresión Lineal)"
   ]
  },
  {
   "cell_type": "markdown",
   "metadata": {
    "id": "-WhsSgaO51sj"
   },
   "source": [
    "## Dividir los datos"
   ]
  },
  {
   "cell_type": "code",
   "execution_count": 4,
   "metadata": {
    "executionInfo": {
     "elapsed": 3,
     "status": "ok",
     "timestamp": 1727211807838,
     "user": {
      "displayName": "Carlos Eduardo Funes Betancourt",
      "userId": "08881453222472208633"
     },
     "user_tz": 360
    },
    "id": "qfmyFUik8MVd"
   },
   "outputs": [],
   "source": [
    "X_train, X_test, y_train, y_test = train_test_split(X, y, test_size=0.2, random_state=42)"
   ]
  },
  {
   "cell_type": "markdown",
   "metadata": {
    "id": "ZNce2dEg6WZJ"
   },
   "source": [
    "##  Determinar si el Modelo es Lineal o no"
   ]
  },
  {
   "cell_type": "code",
   "execution_count": 5,
   "metadata": {
    "colab": {
     "base_uri": "https://localhost:8080/",
     "height": 466
    },
    "executionInfo": {
     "elapsed": 1377,
     "status": "ok",
     "timestamp": 1727211809212,
     "user": {
      "displayName": "Carlos Eduardo Funes Betancourt",
      "userId": "08881453222472208633"
     },
     "user_tz": 360
    },
    "id": "FGdopw7Y7MZ4",
    "outputId": "ad15bb88-9e6d-4435-d3e8-187e480e7ed8"
   },
   "outputs": [
    {
     "data": {
      "text/plain": [
       "Text(0, 0.5, 'Residuos')"
      ]
     },
     "execution_count": 5,
     "metadata": {},
     "output_type": "execute_result"
    },
    {
     "data": {
      "image/png": "[encoded data removed]",
      "text/plain": [
       "<Figure size 640x480 with 1 Axes>"
      ]
     },
     "metadata": {},
     "output_type": "display_data"
    }
   ],
   "source": [
    "# Crear y entrenar el modelo de regresión lineal\n",
    "lineal_model = LinearRegression()\n",
    "lineal_model.fit(X_train, y_train)\n",
    "\n",
    "# Hacer predicciones\n",
    "y_pred_train = lineal_model.predict(X_train)\n",
    "y_pred_test = lineal_model.predict(X_test)\n",
    "\n",
    "# Calcular los residuos\n",
    "residuos = y_train - y_pred_train\n",
    "\n",
    "# Visualizar los residuos\n",
    "plt.scatter(y_pred_train, residuos)\n",
    "plt.axhline(y=0, color='r', linestyle='--')\n",
    "plt.xlabel('Valores predichos')\n",
    "plt.ylabel('Residuos')"
   ]
  },
  {
   "cell_type": "code",
   "execution_count": 6,
   "metadata": {
    "colab": {
     "base_uri": "https://localhost:8080/",
     "height": 80
    },
    "executionInfo": {
     "elapsed": 7,
     "status": "ok",
     "timestamp": 1727211809213,
     "user": {
      "displayName": "Carlos Eduardo Funes Betancourt",
      "userId": "08881453222472208633"
     },
     "user_tz": 360
    },
    "id": "EIWlpQk19xUl",
    "outputId": "ecd04266-ff52-4e88-a5b7-9d041fdf2b24"
   },
   "outputs": [
    {
     "data": {
      "text/html": [
       "<style>#sk-container-id-1 {\n",
       "  /* Definition of color scheme common for light and dark mode */\n",
       "  --sklearn-color-text: #000;\n",
       "  --sklearn-color-text-muted: #666;\n",
       "  --sklearn-color-line: gray;\n",
       "  /* Definition of color scheme for unfitted estimators */\n",
       "  --sklearn-color-unfitted-level-0: #fff5e6;\n",
       "  --sklearn-color-unfitted-level-1: #f6e4d2;\n",
       "  --sklearn-color-unfitted-level-2: #ffe0b3;\n",
       "  --sklearn-color-unfitted-level-3: chocolate;\n",
       "  /* Definition of color scheme for fitted estimators */\n",
       "  --sklearn-color-fitted-level-0: #f0f8ff;\n",
       "  --sklearn-color-fitted-level-1: #d4ebff;\n",
       "  --sklearn-color-fitted-level-2: #b3dbfd;\n",
       "  --sklearn-color-fitted-level-3: cornflowerblue;\n",
       "\n",
       "  /* Specific color for light theme */\n",
       "  --sklearn-color-text-on-default-background: var(--sg-text-color, var(--theme-code-foreground, var(--jp-content-font-color1, black)));\n",
       "  --sklearn-color-background: var(--sg-background-color, var(--theme-background, var(--jp-layout-color0, white)));\n",
       "  --sklearn-color-border-box: var(--sg-text-color, var(--theme-code-foreground, var(--jp-content-font-color1, black)));\n",
       "  --sklearn-color-icon: #696969;\n",
       "\n",
       "  @media (prefers-color-scheme: dark) {\n",
       "    /* Redefinition of color scheme for dark theme */\n",
       "    --sklearn-color-text-on-default-background: var(--sg-text-color, var(--theme-code-foreground, var(--jp-content-font-color1, white)));\n",
       "    --sklearn-color-background: var(--sg-background-color, var(--theme-background, var(--jp-layout-color0, #111)));\n",
       "    --sklearn-color-border-box: var(--sg-text-color, var(--theme-code-foreground, var(--jp-content-font-color1, white)));\n",
       "    --sklearn-color-icon: #878787;\n",
       "  }\n",
       "}\n",
       "\n",
       "#sk-container-id-1 {\n",
       "  color: var(--sklearn-color-text);\n",
       "}\n",
       "\n",
       "#sk-container-id-1 pre {\n",
       "  padding: 0;\n",
       "}\n",
       "\n",
       "#sk-container-id-1 input.sk-hidden--visually {\n",
       "  border: 0;\n",
       "  clip: rect(1px 1px 1px 1px);\n",
       "  clip: rect(1px, 1px, 1px, 1px);\n",
       "  height: 1px;\n",
       "  margin: -1px;\n",
       "  overflow: hidden;\n",
       "  padding: 0;\n",
       "  position: absolute;\n",
       "  width: 1px;\n",
       "}\n",
       "\n",
       "#sk-container-id-1 div.sk-dashed-wrapped {\n",
       "  border: 1px dashed var(--sklearn-color-line);\n",
       "  margin: 0 0.4em 0.5em 0.4em;\n",
       "  box-sizing: border-box;\n",
       "  padding-bottom: 0.4em;\n",
       "  background-color: var(--sklearn-color-background);\n",
       "}\n",
       "\n",
       "#sk-container-id-1 div.sk-container {\n",
       "  /* jupyter's `normalize.less` sets `[hidden] { display: none; }`\n",
       "     but bootstrap.min.css set `[hidden] { display: none !important; }`\n",
       "     so we also need the `!important` here to be able to override the\n",
       "     default hidden behavior on the sphinx rendered scikit-learn.org.\n",
       "     See: https://github.com/scikit-learn/scikit-learn/issues/21755 */\n",
       "  display: inline-block !important;\n",
       "  position: relative;\n",
       "}\n",
       "\n",
       "#sk-container-id-1 div.sk-text-repr-fallback {\n",
       "  display: none;\n",
       "}\n",
       "\n",
       "div.sk-parallel-item,\n",
       "div.sk-serial,\n",
       "div.sk-item {\n",
       "  /* draw centered vertical line to link estimators */\n",
       "  background-image: linear-gradient(var(--sklearn-color-text-on-default-background), var(--sklearn-color-text-on-default-background));\n",
       "  background-size: 2px 100%;\n",
       "  background-repeat: no-repeat;\n",
       "  background-position: center center;\n",
       "}\n",
       "\n",
       "/* Parallel-specific style estimator block */\n",
       "\n",
       "#sk-container-id-1 div.sk-parallel-item::after {\n",
       "  content: \"\";\n",
       "  width: 100%;\n",
       "  border-bottom: 2px solid var(--sklearn-color-text-on-default-background);\n",
       "  flex-grow: 1;\n",
       "}\n",
       "\n",
       "#sk-container-id-1 div.sk-parallel {\n",
       "  display: flex;\n",
       "  align-items: stretch;\n",
       "  justify-content: center;\n",
       "  background-color: var(--sklearn-color-background);\n",
       "  position: relative;\n",
       "}\n",
       "\n",
       "#sk-container-id-1 div.sk-parallel-item {\n",
       "  display: flex;\n",
       "  flex-direction: column;\n",
       "}\n",
       "\n",
       "#sk-container-id-1 div.sk-parallel-item:first-child::after {\n",
       "  align-self: flex-end;\n",
       "  width: 50%;\n",
       "}\n",
       "\n",
       "#sk-container-id-1 div.sk-parallel-item:last-child::after {\n",
       "  align-self: flex-start;\n",
       "  width: 50%;\n",
       "}\n",
       "\n",
       "#sk-container-id-1 div.sk-parallel-item:only-child::after {\n",
       "  width: 0;\n",
       "}\n",
       "\n",
       "/* Serial-specific style estimator block */\n",
       "\n",
       "#sk-container-id-1 div.sk-serial {\n",
       "  display: flex;\n",
       "  flex-direction: column;\n",
       "  align-items: center;\n",
       "  background-color: var(--sklearn-color-background);\n",
       "  padding-right: 1em;\n",
       "  padding-left: 1em;\n",
       "}\n",
       "\n",
       "\n",
       "/* Toggleable style: style used for estimator/Pipeline/ColumnTransformer box that is\n",
       "clickable and can be expanded/collapsed.\n",
       "- Pipeline and ColumnTransformer use this feature and define the default style\n",
       "- Estimators will overwrite some part of the style using the `sk-estimator` class\n",
       "*/\n",
       "\n",
       "/* Pipeline and ColumnTransformer style (default) */\n",
       "\n",
       "#sk-container-id-1 div.sk-toggleable {\n",
       "  /* Default theme specific background. It is overwritten whether we have a\n",
       "  specific estimator or a Pipeline/ColumnTransformer */\n",
       "  background-color: var(--sklearn-color-background);\n",
       "}\n",
       "\n",
       "/* Toggleable label */\n",
       "#sk-container-id-1 label.sk-toggleable__label {\n",
       "  cursor: pointer;\n",
       "  display: flex;\n",
       "  width: 100%;\n",
       "  margin-bottom: 0;\n",
       "  padding: 0.5em;\n",
       "  box-sizing: border-box;\n",
       "  text-align: center;\n",
       "  align-items: start;\n",
       "  justify-content: space-between;\n",
       "  gap: 0.5em;\n",
       "}\n",
       "\n",
       "#sk-container-id-1 label.sk-toggleable__label .caption {\n",
       "  font-size: 0.6rem;\n",
       "  font-weight: lighter;\n",
       "  color: var(--sklearn-color-text-muted);\n",
       "}\n",
       "\n",
       "#sk-container-id-1 label.sk-toggleable__label-arrow:before {\n",
       "  /* Arrow on the left of the label */\n",
       "  content: \"▸\";\n",
       "  float: left;\n",
       "  margin-right: 0.25em;\n",
       "  color: var(--sklearn-color-icon);\n",
       "}\n",
       "\n",
       "#sk-container-id-1 label.sk-toggleable__label-arrow:hover:before {\n",
       "  color: var(--sklearn-color-text);\n",
       "}\n",
       "\n",
       "/* Toggleable content - dropdown */\n",
       "\n",
       "#sk-container-id-1 div.sk-toggleable__content {\n",
       "  display: none;\n",
       "  text-align: left;\n",
       "  /* unfitted */\n",
       "  background-color: var(--sklearn-color-unfitted-level-0);\n",
       "}\n",
       "\n",
       "#sk-container-id-1 div.sk-toggleable__content.fitted {\n",
       "  /* fitted */\n",
       "  background-color: var(--sklearn-color-fitted-level-0);\n",
       "}\n",
       "\n",
       "#sk-container-id-1 div.sk-toggleable__content pre {\n",
       "  margin: 0.2em;\n",
       "  border-radius: 0.25em;\n",
       "  color: var(--sklearn-color-text);\n",
       "  /* unfitted */\n",
       "  background-color: var(--sklearn-color-unfitted-level-0);\n",
       "}\n",
       "\n",
       "#sk-container-id-1 div.sk-toggleable__content.fitted pre {\n",
       "  /* unfitted */\n",
       "  background-color: var(--sklearn-color-fitted-level-0);\n",
       "}\n",
       "\n",
       "#sk-container-id-1 input.sk-toggleable__control:checked~div.sk-toggleable__content {\n",
       "  /* Expand drop-down */\n",
       "  display: block;\n",
       "  width: 100%;\n",
       "  overflow: visible;\n",
       "}\n",
       "\n",
       "#sk-container-id-1 input.sk-toggleable__control:checked~label.sk-toggleable__label-arrow:before {\n",
       "  content: \"▾\";\n",
       "}\n",
       "\n",
       "/* Pipeline/ColumnTransformer-specific style */\n",
       "\n",
       "#sk-container-id-1 div.sk-label input.sk-toggleable__control:checked~label.sk-toggleable__label {\n",
       "  color: var(--sklearn-color-text);\n",
       "  background-color: var(--sklearn-color-unfitted-level-2);\n",
       "}\n",
       "\n",
       "#sk-container-id-1 div.sk-label.fitted input.sk-toggleable__control:checked~label.sk-toggleable__label {\n",
       "  background-color: var(--sklearn-color-fitted-level-2);\n",
       "}\n",
       "\n",
       "/* Estimator-specific style */\n",
       "\n",
       "/* Colorize estimator box */\n",
       "#sk-container-id-1 div.sk-estimator input.sk-toggleable__control:checked~label.sk-toggleable__label {\n",
       "  /* unfitted */\n",
       "  background-color: var(--sklearn-color-unfitted-level-2);\n",
       "}\n",
       "\n",
       "#sk-container-id-1 div.sk-estimator.fitted input.sk-toggleable__control:checked~label.sk-toggleable__label {\n",
       "  /* fitted */\n",
       "  background-color: var(--sklearn-color-fitted-level-2);\n",
       "}\n",
       "\n",
       "#sk-container-id-1 div.sk-label label.sk-toggleable__label,\n",
       "#sk-container-id-1 div.sk-label label {\n",
       "  /* The background is the default theme color */\n",
       "  color: var(--sklearn-color-text-on-default-background);\n",
       "}\n",
       "\n",
       "/* On hover, darken the color of the background */\n",
       "#sk-container-id-1 div.sk-label:hover label.sk-toggleable__label {\n",
       "  color: var(--sklearn-color-text);\n",
       "  background-color: var(--sklearn-color-unfitted-level-2);\n",
       "}\n",
       "\n",
       "/* Label box, darken color on hover, fitted */\n",
       "#sk-container-id-1 div.sk-label.fitted:hover label.sk-toggleable__label.fitted {\n",
       "  color: var(--sklearn-color-text);\n",
       "  background-color: var(--sklearn-color-fitted-level-2);\n",
       "}\n",
       "\n",
       "/* Estimator label */\n",
       "\n",
       "#sk-container-id-1 div.sk-label label {\n",
       "  font-family: monospace;\n",
       "  font-weight: bold;\n",
       "  display: inline-block;\n",
       "  line-height: 1.2em;\n",
       "}\n",
       "\n",
       "#sk-container-id-1 div.sk-label-container {\n",
       "  text-align: center;\n",
       "}\n",
       "\n",
       "/* Estimator-specific */\n",
       "#sk-container-id-1 div.sk-estimator {\n",
       "  font-family: monospace;\n",
       "  border: 1px dotted var(--sklearn-color-border-box);\n",
       "  border-radius: 0.25em;\n",
       "  box-sizing: border-box;\n",
       "  margin-bottom: 0.5em;\n",
       "  /* unfitted */\n",
       "  background-color: var(--sklearn-color-unfitted-level-0);\n",
       "}\n",
       "\n",
       "#sk-container-id-1 div.sk-estimator.fitted {\n",
       "  /* fitted */\n",
       "  background-color: var(--sklearn-color-fitted-level-0);\n",
       "}\n",
       "\n",
       "/* on hover */\n",
       "#sk-container-id-1 div.sk-estimator:hover {\n",
       "  /* unfitted */\n",
       "  background-color: var(--sklearn-color-unfitted-level-2);\n",
       "}\n",
       "\n",
       "#sk-container-id-1 div.sk-estimator.fitted:hover {\n",
       "  /* fitted */\n",
       "  background-color: var(--sklearn-color-fitted-level-2);\n",
       "}\n",
       "\n",
       "/* Specification for estimator info (e.g. \"i\" and \"?\") */\n",
       "\n",
       "/* Common style for \"i\" and \"?\" */\n",
       "\n",
       ".sk-estimator-doc-link,\n",
       "a:link.sk-estimator-doc-link,\n",
       "a:visited.sk-estimator-doc-link {\n",
       "  float: right;\n",
       "  font-size: smaller;\n",
       "  line-height: 1em;\n",
       "  font-family: monospace;\n",
       "  background-color: var(--sklearn-color-background);\n",
       "  border-radius: 1em;\n",
       "  height: 1em;\n",
       "  width: 1em;\n",
       "  text-decoration: none !important;\n",
       "  margin-left: 0.5em;\n",
       "  text-align: center;\n",
       "  /* unfitted */\n",
       "  border: var(--sklearn-color-unfitted-level-1) 1pt solid;\n",
       "  color: var(--sklearn-color-unfitted-level-1);\n",
       "}\n",
       "\n",
       ".sk-estimator-doc-link.fitted,\n",
       "a:link.sk-estimator-doc-link.fitted,\n",
       "a:visited.sk-estimator-doc-link.fitted {\n",
       "  /* fitted */\n",
       "  border: var(--sklearn-color-fitted-level-1) 1pt solid;\n",
       "  color: var(--sklearn-color-fitted-level-1);\n",
       "}\n",
       "\n",
       "/* On hover */\n",
       "div.sk-estimator:hover .sk-estimator-doc-link:hover,\n",
       ".sk-estimator-doc-link:hover,\n",
       "div.sk-label-container:hover .sk-estimator-doc-link:hover,\n",
       ".sk-estimator-doc-link:hover {\n",
       "  /* unfitted */\n",
       "  background-color: var(--sklearn-color-unfitted-level-3);\n",
       "  color: var(--sklearn-color-background);\n",
       "  text-decoration: none;\n",
       "}\n",
       "\n",
       "div.sk-estimator.fitted:hover .sk-estimator-doc-link.fitted:hover,\n",
       ".sk-estimator-doc-link.fitted:hover,\n",
       "div.sk-label-container:hover .sk-estimator-doc-link.fitted:hover,\n",
       ".sk-estimator-doc-link.fitted:hover {\n",
       "  /* fitted */\n",
       "  background-color: var(--sklearn-color-fitted-level-3);\n",
       "  color: var(--sklearn-color-background);\n",
       "  text-decoration: none;\n",
       "}\n",
       "\n",
       "/* Span, style for the box shown on hovering the info icon */\n",
       ".sk-estimator-doc-link span {\n",
       "  display: none;\n",
       "  z-index: 9999;\n",
       "  position: relative;\n",
       "  font-weight: normal;\n",
       "  right: .2ex;\n",
       "  padding: .5ex;\n",
       "  margin: .5ex;\n",
       "  width: min-content;\n",
       "  min-width: 20ex;\n",
       "  max-width: 50ex;\n",
       "  color: var(--sklearn-color-text);\n",
       "  box-shadow: 2pt 2pt 4pt #999;\n",
       "  /* unfitted */\n",
       "  background: var(--sklearn-color-unfitted-level-0);\n",
       "  border: .5pt solid var(--sklearn-color-unfitted-level-3);\n",
       "}\n",
       "\n",
       ".sk-estimator-doc-link.fitted span {\n",
       "  /* fitted */\n",
       "  background: var(--sklearn-color-fitted-level-0);\n",
       "  border: var(--sklearn-color-fitted-level-3);\n",
       "}\n",
       "\n",
       ".sk-estimator-doc-link:hover span {\n",
       "  display: block;\n",
       "}\n",
       "\n",
       "/* \"?\"-specific style due to the `<a>` HTML tag */\n",
       "\n",
       "#sk-container-id-1 a.estimator_doc_link {\n",
       "  float: right;\n",
       "  font-size: 1rem;\n",
       "  line-height: 1em;\n",
       "  font-family: monospace;\n",
       "  background-color: var(--sklearn-color-background);\n",
       "  border-radius: 1rem;\n",
       "  height: 1rem;\n",
       "  width: 1rem;\n",
       "  text-decoration: none;\n",
       "  /* unfitted */\n",
       "  color: var(--sklearn-color-unfitted-level-1);\n",
       "  border: var(--sklearn-color-unfitted-level-1) 1pt solid;\n",
       "}\n",
       "\n",
       "#sk-container-id-1 a.estimator_doc_link.fitted {\n",
       "  /* fitted */\n",
       "  border: var(--sklearn-color-fitted-level-1) 1pt solid;\n",
       "  color: var(--sklearn-color-fitted-level-1);\n",
       "}\n",
       "\n",
       "/* On hover */\n",
       "#sk-container-id-1 a.estimator_doc_link:hover {\n",
       "  /* unfitted */\n",
       "  background-color: var(--sklearn-color-unfitted-level-3);\n",
       "  color: var(--sklearn-color-background);\n",
       "  text-decoration: none;\n",
       "}\n",
       "\n",
       "#sk-container-id-1 a.estimator_doc_link.fitted:hover {\n",
       "  /* fitted */\n",
       "  background-color: var(--sklearn-color-fitted-level-3);\n",
       "}\n",
       "\n",
       ".estimator-table summary {\n",
       "    padding: .5rem;\n",
       "    font-family: monospace;\n",
       "    cursor: pointer;\n",
       "}\n",
       "\n",
       ".estimator-table details[open] {\n",
       "    padding-left: 0.1rem;\n",
       "    padding-right: 0.1rem;\n",
       "    padding-bottom: 0.3rem;\n",
       "}\n",
       "\n",
       ".estimator-table .parameters-table {\n",
       "    margin-left: auto !important;\n",
       "    margin-right: auto !important;\n",
       "}\n",
       "\n",
       ".estimator-table .parameters-table tr:nth-child(odd) {\n",
       "    background-color: #fff;\n",
       "}\n",
       "\n",
       ".estimator-table .parameters-table tr:nth-child(even) {\n",
       "    background-color: #f6f6f6;\n",
       "}\n",
       "\n",
       ".estimator-table .parameters-table tr:hover {\n",
       "    background-color: #e0e0e0;\n",
       "}\n",
       "\n",
       ".estimator-table table td {\n",
       "    border: 1px solid rgba(106, 105, 104, 0.232);\n",
       "}\n",
       "\n",
       ".user-set td {\n",
       "    color:rgb(255, 94, 0);\n",
       "    text-align: left;\n",
       "}\n",
       "\n",
       ".user-set td.value pre {\n",
       "    color:rgb(255, 94, 0) !important;\n",
       "    background-color: transparent !important;\n",
       "}\n",
       "\n",
       ".default td {\n",
       "    color: black;\n",
       "    text-align: left;\n",
       "}\n",
       "\n",
       ".user-set td i,\n",
       ".default td i {\n",
       "    color: black;\n",
       "}\n",
       "\n",
       ".copy-paste-icon {\n",
       "    background-image: url(data:image/svg+xml;base64,PHN2ZyB4bWxucz0iaHR0cDovL3d3dy53My5vcmcvMjAwMC9zdmciIHZpZXdCb3g9IjAgMCA0NDggNTEyIj48IS0tIUZvbnQgQXdlc29tZSBGcmVlIDYuNy4yIGJ5IEBmb250YXdlc29tZSAtIGh0dHBzOi8vZm9udGF3ZXNvbWUuY29tIExpY2Vuc2UgLSBodHRwczovL2ZvbnRhd2Vzb21lLmNvbS9saWNlbnNlL2ZyZWUgQ29weXJpZ2h0IDIwMjUgRm9udGljb25zLCBJbmMuLS0+PHBhdGggZD0iTTIwOCAwTDMzMi4xIDBjMTIuNyAwIDI0LjkgNS4xIDMzLjkgMTQuMWw2Ny45IDY3LjljOSA5IDE0LjEgMjEuMiAxNC4xIDMzLjlMNDQ4IDMzNmMwIDI2LjUtMjEuNSA0OC00OCA0OGwtMTkyIDBjLTI2LjUgMC00OC0yMS41LTQ4LTQ4bDAtMjg4YzAtMjYuNSAyMS41LTQ4IDQ4LTQ4ek00OCAxMjhsODAgMCAwIDY0LTY0IDAgMCAyNTYgMTkyIDAgMC0zMiA2NCAwIDAgNDhjMCAyNi41LTIxLjUgNDgtNDggNDhMNDggNTEyYy0yNi41IDAtNDgtMjEuNS00OC00OEwwIDE3NmMwLTI2LjUgMjEuNS00OCA0OC00OHoiLz48L3N2Zz4=);\n",
       "    background-repeat: no-repeat;\n",
       "    background-size: 14px 14px;\n",
       "    background-position: 0;\n",
       "    display: inline-block;\n",
       "    width: 14px;\n",
       "    height: 14px;\n",
       "    cursor: pointer;\n",
       "}\n",
       "</style><body><div id=\"sk-container-id-1\" class=\"sk-top-container\"><div class=\"sk-text-repr-fallback\"><pre>LinearRegression()</pre><b>In a Jupyter environment, please rerun this cell to show the HTML representation or trust the notebook. <br />On GitHub, the HTML representation is unable to render, please try loading this page with nbviewer.org.</b></div><div class=\"sk-container\" hidden><div class=\"sk-item\"><div class=\"sk-estimator fitted sk-toggleable\"><input class=\"sk-toggleable__control sk-hidden--visually\" id=\"sk-estimator-id-1\" type=\"checkbox\" checked><label for=\"sk-estimator-id-1\" class=\"sk-toggleable__label fitted sk-toggleable__label-arrow\"><div><div>LinearRegression</div></div><div><a class=\"sk-estimator-doc-link fitted\" rel=\"noreferrer\" target=\"_blank\" href=\"https://scikit-learn.org/1.7/modules/generated/sklearn.linear_model.LinearRegression.html\">?<span>Documentation for LinearRegression</span></a><span class=\"sk-estimator-doc-link fitted\">i<span>Fitted</span></span></div></label><div class=\"sk-toggleable__content fitted\" data-param-prefix=\"\">\n",
       "        <div class=\"estimator-table\">\n",
       "            <details>\n",
       "                <summary>Parameters</summary>\n",
       "                <table class=\"parameters-table\">\n",
       "                  <tbody>\n",
       "                    \n",
       "        <tr class=\"default\">\n",
       "            <td><i class=\"copy-paste-icon\"\n",
       "                 onclick=\"copyToClipboard('fit_intercept',\n",
       "                          this.parentElement.nextElementSibling)\"\n",
       "            ></i></td>\n",
       "            <td class=\"param\">fit_intercept&nbsp;</td>\n",
       "            <td class=\"value\">True</td>\n",
       "        </tr>\n",
       "    \n",
       "\n",
       "        <tr class=\"default\">\n",
       "            <td><i class=\"copy-paste-icon\"\n",
       "                 onclick=\"copyToClipboard('copy_X',\n",
       "                          this.parentElement.nextElementSibling)\"\n",
       "            ></i></td>\n",
       "            <td class=\"param\">copy_X&nbsp;</td>\n",
       "            <td class=\"value\">True</td>\n",
       "        </tr>\n",
       "    \n",
       "\n",
       "        <tr class=\"default\">\n",
       "            <td><i class=\"copy-paste-icon\"\n",
       "                 onclick=\"copyToClipboard('tol',\n",
       "                          this.parentElement.nextElementSibling)\"\n",
       "            ></i></td>\n",
       "            <td class=\"param\">tol&nbsp;</td>\n",
       "            <td class=\"value\">1e-06</td>\n",
       "        </tr>\n",
       "    \n",
       "\n",
       "        <tr class=\"default\">\n",
       "            <td><i class=\"copy-paste-icon\"\n",
       "                 onclick=\"copyToClipboard('n_jobs',\n",
       "                          this.parentElement.nextElementSibling)\"\n",
       "            ></i></td>\n",
       "            <td class=\"param\">n_jobs&nbsp;</td>\n",
       "            <td class=\"value\">None</td>\n",
       "        </tr>\n",
       "    \n",
       "\n",
       "        <tr class=\"default\">\n",
       "            <td><i class=\"copy-paste-icon\"\n",
       "                 onclick=\"copyToClipboard('positive',\n",
       "                          this.parentElement.nextElementSibling)\"\n",
       "            ></i></td>\n",
       "            <td class=\"param\">positive&nbsp;</td>\n",
       "            <td class=\"value\">False</td>\n",
       "        </tr>\n",
       "    \n",
       "                  </tbody>\n",
       "                </table>\n",
       "            </details>\n",
       "        </div>\n",
       "    </div></div></div></div></div><script>function copyToClipboard(text, element) {\n",
       "    // Get the parameter prefix from the closest toggleable content\n",
       "    const toggleableContent = element.closest('.sk-toggleable__content');\n",
       "    const paramPrefix = toggleableContent ? toggleableContent.dataset.paramPrefix : '';\n",
       "    const fullParamName = paramPrefix ? `${paramPrefix}${text}` : text;\n",
       "\n",
       "    const originalStyle = element.style;\n",
       "    const computedStyle = window.getComputedStyle(element);\n",
       "    const originalWidth = computedStyle.width;\n",
       "    const originalHTML = element.innerHTML.replace('Copied!', '');\n",
       "\n",
       "    navigator.clipboard.writeText(fullParamName)\n",
       "        .then(() => {\n",
       "            element.style.width = originalWidth;\n",
       "            element.style.color = 'green';\n",
       "            element.innerHTML = \"Copied!\";\n",
       "\n",
       "            setTimeout(() => {\n",
       "                element.innerHTML = originalHTML;\n",
       "                element.style = originalStyle;\n",
       "            }, 2000);\n",
       "        })\n",
       "        .catch(err => {\n",
       "            console.error('Failed to copy:', err);\n",
       "            element.style.color = 'red';\n",
       "            element.innerHTML = \"Failed!\";\n",
       "            setTimeout(() => {\n",
       "                element.innerHTML = originalHTML;\n",
       "                element.style = originalStyle;\n",
       "            }, 2000);\n",
       "        });\n",
       "    return false;\n",
       "}\n",
       "\n",
       "document.querySelectorAll('.fa-regular.fa-copy').forEach(function(element) {\n",
       "    const toggleableContent = element.closest('.sk-toggleable__content');\n",
       "    const paramPrefix = toggleableContent ? toggleableContent.dataset.paramPrefix : '';\n",
       "    const paramName = element.parentElement.nextElementSibling.textContent.trim();\n",
       "    const fullParamName = paramPrefix ? `${paramPrefix}${paramName}` : paramName;\n",
       "\n",
       "    element.setAttribute('title', fullParamName);\n",
       "});\n",
       "</script></body>"
      ],
      "text/plain": [
       "LinearRegression()"
      ]
     },
     "execution_count": 6,
     "metadata": {},
     "output_type": "execute_result"
    }
   ],
   "source": [
    "# Si los residuos se distribuyen aleatoriamente alrededor de cero, se considera lineal\n",
    "residual_model = LinearRegression()\n",
    "residual_model.fit(y_pred_train.reshape(-1, 1), residuos)"
   ]
  },
  {
   "cell_type": "code",
   "execution_count": 7,
   "metadata": {
    "colab": {
     "base_uri": "https://localhost:8080/"
    },
    "executionInfo": {
     "elapsed": 6,
     "status": "ok",
     "timestamp": 1727211809213,
     "user": {
      "displayName": "Carlos Eduardo Funes Betancourt",
      "userId": "08881453222472208633"
     },
     "user_tz": 360
    },
    "id": "wJXaUEno8B52",
    "outputId": "54f6f30b-7a8e-4725-e09d-b0b5355e8e62"
   },
   "outputs": [
    {
     "name": "stdout",
     "output_type": "stream",
     "text": [
      "El modelo es lineal: True\n"
     ]
    }
   ],
   "source": [
    "# Obtener el coeficiente de la regresion sobre los residuos\n",
    "residual_slope = residual_model.coef_[0]\n",
    "is_linear = np.abs(residual_slope) < 1e-5\n",
    "print(f\"El modelo es lineal: {is_linear}\")"
   ]
  },
  {
   "cell_type": "markdown",
   "metadata": {
    "id": "EloxMzSU79n_"
   },
   "source": [
    "podemos confirmar si los residuos (errores) están distribuidos aleatoriamente alrededor de 0. Esto nos da una idea de si el modelo capturó bien la linealidad."
   ]
  },
  {
   "cell_type": "markdown",
   "metadata": {
    "id": "4AzEopOD7aGZ"
   },
   "source": [
    "##  Entrenar un Modelo de Machine Learning (ML)"
   ]
  },
  {
   "cell_type": "code",
   "execution_count": 8,
   "metadata": {
    "colab": {
     "base_uri": "https://localhost:8080/"
    },
    "executionInfo": {
     "elapsed": 5,
     "status": "ok",
     "timestamp": 1727211809213,
     "user": {
      "displayName": "Carlos Eduardo Funes Betancourt",
      "userId": "08881453222472208633"
     },
     "user_tz": 360
    },
    "id": "_aDrz19g88_V",
    "outputId": "7624fc18-60ba-4d6e-868f-502d666b52e9"
   },
   "outputs": [
    {
     "name": "stdout",
     "output_type": "stream",
     "text": [
      "MSE del modelo lineal: 5.98\n",
      "R² del modelo lineal: 0.83\n"
     ]
    }
   ],
   "source": [
    "# Hacer predicciones\n",
    "lineal_model.fit(X_train, y_train)\n",
    "y_pred_lineal = lineal_model.predict(X_test)\n",
    "mse = mean_squared_error(y_test, y_pred_lineal)\n",
    "r2 = r2_score(y_test, y_pred_lineal)\n",
    "print(f'MSE del modelo lineal: {mse:.2f}')\n",
    "print(f'R² del modelo lineal: {r2:.2f}')"
   ]
  },
  {
   "cell_type": "markdown",
   "metadata": {
    "id": "mXlWD6b4A9R7"
   },
   "source": [
    "## Visualización de los Datos"
   ]
  },
  {
   "cell_type": "markdown",
   "metadata": {
    "id": "kg6ZBK_c8UfP"
   },
   "source": [
    "visualizamos la relaccion entre reduccion de solidos y demanda de oxigeno, ademas, visualizamos la linea de regresion que fue generado por el modelo (lineal_model.predict(X))"
   ]
  },
  {
   "cell_type": "code",
   "execution_count": 9,
   "metadata": {
    "colab": {
     "base_uri": "https://localhost:8080/",
     "height": 472
    },
    "executionInfo": {
     "elapsed": 808,
     "status": "ok",
     "timestamp": 1727211810017,
     "user": {
      "displayName": "Carlos Eduardo Funes Betancourt",
      "userId": "08881453222472208633"
     },
     "user_tz": 360
    },
    "id": "AeR5N1IfA-5K",
    "outputId": "d1125983-dc24-490c-aa12-83f9571dfe1d"
   },
   "outputs": [
    {
     "data": {
      "image/png": "[encoded data removed]",
      "text/plain": [
       "<Figure size 640x480 with 1 Axes>"
      ]
     },
     "metadata": {},
     "output_type": "display_data"
    }
   ],
   "source": [
    "# Visualización de los datos originales y la línea de regresión\n",
    "plt.scatter(reduce_solid, reduce_demand_oxygen, color='blue')\n",
    "y_pred_lineal = lineal_model.predict(X)\n",
    "plt.plot(X, y_pred_lineal, color='red', linewidth=2)\n",
    "plt.title('Modelo Lineal: Relación entre Reducción de Sólidos y Demanda de Oxígeno')\n",
    "plt.xlabel('Reducción de Sólidos')\n",
    "plt.ylabel('Demanda de Oxígeno')\n",
    "plt.show()"
   ]
  },
  {
   "cell_type": "markdown",
   "metadata": {
    "id": "ukQKLWq49DaC"
   },
   "source": [
    "El modelo de Regresion lineal:\n",
    "\n",
    "Se utilizo un modelo de regresion lineal para predecir la demanda de Oxygeno en funcion de la reduccion de solidos.\n",
    "\n",
    "se considero ese modelo por:\n",
    "\n",
    "  - este modelo es mas facil de interpretar y de entrenar.\n",
    "  - Es adecuado cuando hay una relacion lineal entre las variables de entrada y salida.\n",
    "  - proporciona una buena base antes de explorar modelos mas complejos como redes neuronales."
   ]
  },
  {
   "cell_type": "markdown",
   "metadata": {
    "id": "AyqoCyM2CQlG"
   },
   "source": [
    "#Red Neuronal Secuencial (DL)"
   ]
  },
  {
   "cell_type": "markdown",
   "metadata": {
    "id": "ugNZilEKUIi2"
   },
   "source": [
    "se construye la Red Neuronal utilizando tres capas(entrada, oculta, salida)"
   ]
  },
  {
   "cell_type": "code",
   "execution_count": 10,
   "metadata": {
    "colab": {
     "base_uri": "https://localhost:8080/"
    },
    "executionInfo": {
     "elapsed": 417,
     "status": "ok",
     "timestamp": 1727211810430,
     "user": {
      "displayName": "Carlos Eduardo Funes Betancourt",
      "userId": "08881453222472208633"
     },
     "user_tz": 360
    },
    "id": "_g31bTicCV27",
    "outputId": "e1b733ec-fa0f-403e-a8ec-4e1797a276d3"
   },
   "outputs": [
    {
     "name": "stderr",
     "output_type": "stream",
     "text": [
      "c:\\Users\\funes\\AppData\\Local\\Programs\\Python\\Python313\\Lib\\site-packages\\keras\\src\\layers\\core\\dense.py:92: UserWarning: Do not pass an `input_shape`/`input_dim` argument to a layer. When using Sequential models, prefer using an `Input(shape)` object as the first layer in the model instead.\n",
      "  super().__init__(activity_regularizer=activity_regularizer, **kwargs)\n"
     ]
    }
   ],
   "source": [
    "# Definir la estructura de la red neuronal\n",
    "# neurona de entrada\n",
    "capa_entrada = tf.keras.layers.Dense(units=1, input_shape=[1])\n",
    "# neurona ocultas\n",
    "capa_oculta = tf.keras.layers.Dense(units=3)\n",
    "# neuronas de salida\n",
    "capa_salida = tf.keras.layers.Dense(units=1)\n",
    "\n",
    "# crear un modelo sequencial\n",
    "model_sequential = tf.keras.Sequential([capa_entrada, capa_oculta, capa_salida])"
   ]
  },
  {
   "cell_type": "markdown",
   "metadata": {
    "id": "MOA2bcH-UbL8"
   },
   "source": [
    "se complila y se optimiza el modelo secuencial"
   ]
  },
  {
   "cell_type": "code",
   "execution_count": 11,
   "metadata": {
    "executionInfo": {
     "elapsed": 5,
     "status": "ok",
     "timestamp": 1727211810430,
     "user": {
      "displayName": "Carlos Eduardo Funes Betancourt",
      "userId": "08881453222472208633"
     },
     "user_tz": 360
    },
    "id": "1eb323TnCYeC"
   },
   "outputs": [],
   "source": [
    "# compilar el modelo secuencial\n",
    "model_sequential.compile(\n",
    "  optimizer = tf.keras.optimizers.Adam(0.1),\n",
    "  loss = 'mean_squared_error'\n",
    ")"
   ]
  },
  {
   "cell_type": "markdown",
   "metadata": {
    "id": "xPY18qIMUh2x"
   },
   "source": [
    "Se entrena la Red Neuronal..."
   ]
  },
  {
   "cell_type": "code",
   "execution_count": 12,
   "metadata": {
    "colab": {
     "base_uri": "https://localhost:8080/"
    },
    "executionInfo": {
     "elapsed": 61758,
     "status": "ok",
     "timestamp": 1727211872184,
     "user": {
      "displayName": "Carlos Eduardo Funes Betancourt",
      "userId": "08881453222472208633"
     },
     "user_tz": 360
    },
    "id": "aNNN05XVDEXR",
    "outputId": "fcf1c68c-d091-40b5-c56e-5154d05885ac"
   },
   "outputs": [
    {
     "name": "stdout",
     "output_type": "stream",
     "text": [
      "Iniciando Entrenamiento de Red Neuronal...\n",
      "Red Neuronal entrenada...\n"
     ]
    }
   ],
   "source": [
    "# entrenar el modelo\n",
    "print('Iniciando Entrenamiento de Red Neuronal...')\n",
    "historial = model_sequential.fit(reduce_solid, reduce_demand_oxygen, epochs=1000, verbose=False)\n",
    "print('Red Neuronal entrenada...')"
   ]
  },
  {
   "cell_type": "markdown",
   "metadata": {
    "id": "flBG7MxiUnFy"
   },
   "source": [
    "Se visualiza las perdidas durante el entrenamiento de la Red Neuronal."
   ]
  },
  {
   "cell_type": "code",
   "execution_count": 13,
   "metadata": {
    "colab": {
     "base_uri": "https://localhost:8080/",
     "height": 472
    },
    "executionInfo": {
     "elapsed": 7,
     "status": "ok",
     "timestamp": 1727211872184,
     "user": {
      "displayName": "Carlos Eduardo Funes Betancourt",
      "userId": "08881453222472208633"
     },
     "user_tz": 360
    },
    "id": "mx6kiVZeDWrz",
    "outputId": "20b15a73-a004-476a-9e2f-5f2a152cc003"
   },
   "outputs": [
    {
     "data": {
      "image/png": "[encoded data removed]",
      "text/plain": [
       "<Figure size 640x480 with 1 Axes>"
      ]
     },
     "metadata": {},
     "output_type": "display_data"
    }
   ],
   "source": [
    "# Visualizar la pérdida del entrenamiento\n",
    "plt.plot(historial.history['loss'])\n",
    "plt.title('Pérdida durante el entrenamiento de la Red Neuronal')\n",
    "plt.xlabel('Epocas')\n",
    "plt.ylabel('Pérdida')\n",
    "plt.show()"
   ]
  },
  {
   "cell_type": "markdown",
   "metadata": {
    "id": "YHEcuwFE-fUM"
   },
   "source": [
    "## Funciones de Predicción para ML y DL\n",
    "\n",
    "se crea una funcion llamada (predecir_reduccion) la cual nos retorna el resuldato de la prediccion de los modelos de ML y DL"
   ]
  },
  {
   "cell_type": "code",
   "execution_count": 14,
   "metadata": {
    "colab": {
     "base_uri": "https://localhost:8080/"
    },
    "executionInfo": {
     "elapsed": 913,
     "status": "ok",
     "timestamp": 1727211930463,
     "user": {
      "displayName": "Carlos Eduardo Funes Betancourt",
      "userId": "08881453222472208633"
     },
     "user_tz": 360
    },
    "id": "uO09zvFADyxR",
    "outputId": "087b920e-26f2-4d45-d01f-660233a9b2ff"
   },
   "outputs": [
    {
     "name": "stdout",
     "output_type": "stream",
     "text": [
      "\u001b[1m1/1\u001b[0m \u001b[32m━━━━━━━━━━━━━━━━━━━━\u001b[0m\u001b[37m\u001b[0m \u001b[1m0s\u001b[0m 55ms/step\n",
      "Predicción del modelo lineal para 35.0: 35.22\n",
      "Predicción del modelo neuronal para 35.0: 39.90\n",
      "\u001b[1m1/1\u001b[0m \u001b[32m━━━━━━━━━━━━━━━━━━━━\u001b[0m\u001b[37m\u001b[0m \u001b[1m0s\u001b[0m 29ms/step\n",
      "Predicción del modelo lineal para 70.0: 66.43\n",
      "Predicción del modelo neuronal para 70.0: 75.20\n"
     ]
    }
   ],
   "source": [
    "# Función para predecir con ambos modelos\n",
    "def predecir_reduccion(value):\n",
    "    # Predicción con el modelo lineal\n",
    "    pred_lineal = lineal_model.predict(np.array([[value]]))\n",
    "\n",
    "    # Predicción con la red neuronal\n",
    "    pred_neuronal = model_sequential.predict(np.array([[value]]))\n",
    "\n",
    "    print(f\"Predicción del modelo lineal para {value}: {pred_lineal[0]:.2f}\")\n",
    "    print(f\"Predicción del modelo neuronal para {value}: {pred_neuronal[0][0]:.2f}\")\n",
    "\n",
    "# Predecir para 35 y otro valor\n",
    "predecir_reduccion(35.0)\n",
    "predecir_reduccion(70.0)\n"
   ]
  },
  {
   "cell_type": "markdown",
   "metadata": {
    "id": "0uC0ULJvEGG1"
   },
   "source": [
    "### Interpretar Resultados"
   ]
  },
  {
   "cell_type": "markdown",
   "metadata": {
    "id": "J-6n_a7hEqqn"
   },
   "source": [
    "Modelo lineal:\n",
    "\n",
    "El modelo lineal es consistente en su predicción, siguiendo una relación directa entre la reducción de sólidos y la demanda de oxígeno. A medida que aumenta el valor de la reducción de sólidos (de 35 a 70), el modelo predice un aumento proporcional en la demanda de oxígeno. Sin embargo, sus predicciones se ajustan de manera menos precisa a los valores extremos, sugiriendo que podría no capturar variaciones complejas.\n",
    "\n",
    "Red neuronal:\n",
    "\n",
    " La red neuronal predice valores ligeramente más bajos en ambos casos, lo que indica que puede estar capturando patrones más sutiles en los datos. En particular, sugiere que en rangos más altos de reducción de sólidos (como en 70), el aumento en la demanda de oxígeno no es tan pronunciado, lo que puede reflejar una relación más compleja entre las variables.\n",
    "\n",
    "-------------------------------------------------------------------------"
   ]
  },
  {
   "cell_type": "markdown",
   "metadata": {
    "id": "KSjb7so4D4XZ"
   },
   "source": [
    "## Conclusión"
   ]
  },
  {
   "cell_type": "markdown",
   "metadata": {
    "id": "m4SJFq7GD4-H"
   },
   "source": [
    "En este proyecto se desarrollaron dos modelos para predecir la demanda de oxígeno químico a partir de la reducción de sólidos. El modelo de Regresión Lineal demostró ser efectivo al capturar la relación lineal entre las variables, mientras que la Red Neuronal permitió identificar patrones más complejos. Ambos modelos son útiles, aunque la red neuronal podría ser más adecuada cuando la relación entre las variables no es lineal.\n",
    "\n",
    "---------------------------------------------------------------------"
   ]
  },
  {
   "cell_type": "markdown",
   "metadata": {
    "id": "Blp0j5APH9a4"
   },
   "source": [
    "# Redes Neuronales: Estructura, Aplicaciones y Evolución"
   ]
  },
  {
   "cell_type": "markdown",
   "metadata": {
    "id": "ECbpkNLqQkps"
   },
   "source": [
    "### ¿Qué son las redes neuronales?\n",
    "\n",
    "Las redes neuronales son un tipo de algoritmo de machine learning que imita el funcionamiento del cerebro humano. Utilizan neuronas artificiales interconectadas para aprender y modelar relaciones complejas entre datos de entrada y salida. Estas redes tienen la capacidad de tomar decisiones de manera automática y se aplican en diversas áreas como el reconocimiento de voz, la clasificación de imágenes y la predicción de comportamiento."
   ]
  },
  {
   "cell_type": "markdown",
   "metadata": {
    "id": "21kz9kK7QnD9"
   },
   "source": [
    "### Historia de las redes neuronales\n",
    "\n",
    "Los orígenes de las redes neuronales se remontan a los años 40, cuando Warren McCulloch y Walter Pitts crearon el primer modelo de neurona artificial. En los años 50, Frank Rosenblatt desarrolló el perceptrón, un avance significativo que sentó las bases para redes neuronales más avanzadas. A lo largo de las décadas, con el progreso en la neurociencia y la tecnología, surgieron redes convolucionales y recurrentes, fundamentales en aplicaciones como la detección de fraudes y el diagnóstico médico."
   ]
  },
  {
   "cell_type": "markdown",
   "metadata": {
    "id": "1yz-7INkQr16"
   },
   "source": [
    "### Funcionamiento de las redes neuronales\n",
    "\n",
    "Inspiradas en el cerebro humano, las redes neuronales funcionan mediante neuronas artificiales interconectadas que reciben datos y producen una salida. Estas neuronas están organizadas en capas: una de entrada, una o más capas ocultas y una de salida. Durante el entrenamiento, se ajustan los pesos de las conexiones para mejorar la precisión del modelo en cada iteración."
   ]
  },
  {
   "cell_type": "markdown",
   "metadata": {
    "id": "TjLKBv5yQvYJ"
   },
   "source": [
    "### Tipos de redes neuronales\n",
    "\n",
    " - Redes neuronales prealimentadas: Procesan los datos en una única dirección.\n",
    "\n",
    " - Redes convolucionales: Usan retroalimentación para mejorar el análisis predictivo, siendo útiles en el procesamiento de imágenes.\n",
    "\n",
    " - Algoritmo de propagación: Se utiliza principalmente para la clasificación de imágenes."
   ]
  },
  {
   "cell_type": "markdown",
   "metadata": {
    "id": "d-vPKXaCQ6UL"
   },
   "source": [
    "### Funciones de activación\n",
    "\n",
    "Las funciones de activación permiten a las redes neuronales modelar relaciones no lineales. Existen varias funciones, como:\n",
    "\n",
    " - Sigmoide: Para problemas de clasificación binaria.\n",
    "\n",
    " - ReLU: La más utilizada en redes neuronales modernas, ideal para redes profundas.\n",
    "\n",
    "- Tangente hiperbólica: Útil en tareas de clasificación y regresión."
   ]
  },
  {
   "cell_type": "markdown",
   "metadata": {
    "id": "zc6oA83DRAhX"
   },
   "source": [
    "### Aplicaciones de las redes neuronales\n",
    "\n",
    "Las redes neuronales son ampliamente utilizadas en múltiples campos:\n",
    "\n",
    " - Reconocimiento de patrones: En voz e imágenes, permiten la identificación de objetos o palabras.\n",
    "\n",
    " - Procesamiento del lenguaje natural: En traducción automática o generación de texto.\n",
    "\n",
    " - Visión por computadora: En la detección de objetos en tiempo real.\n",
    "\n",
    " - Predicción y toma de decisiones: En comercio electrónico o análisis de riesgos."
   ]
  },
  {
   "cell_type": "markdown",
   "metadata": {
    "id": "DPp0zrp3RT1E"
   },
   "source": [
    "### Ventajas y desventajas\n",
    "\n",
    "#### Ventajas\n",
    "- La principal ventaja es la capacidad de las redes neuronales de capturar y obtener resultados con gran precisión.\n",
    "\n",
    "- La información se procesa de forma local y todas las neuronas ofrecen una respuesta al mismo tiempo.\n",
    "\n",
    "- Las neuronas tienen tolerancia a fallos.\n",
    "\n",
    "- La red neuronal tiene capacidad de reconocer incluso los patrones que no han sido aprendidos.\n",
    "\n",
    "#### Desventajas\n",
    "- Necesitan un gran procesamiento de los datos.\n",
    "\n",
    "- Su tiempo de aprendizaje es elevado.\n",
    "\n",
    "- No son fácilmente explicables.\n",
    "\n",
    "- El aprendizaje en el caso de grandes tareas es complejo."
   ]
  },
  {
   "cell_type": "markdown",
   "metadata": {
    "id": "FE7Wba8rR8jL"
   },
   "source": [
    "### Futuro de las redes neuronales\n",
    "\n",
    "El futuro de las redes neuronales se perfila como uno de los más prometedores dentro del campo de la inteligencia artificial. Su capacidad para abordar problemas complejos está en constante expansión, gracias a los continuos avances en algoritmos y hardware. Con nuevas investigaciones y desarrollos, las redes neuronales están encontrando aplicaciones cada vez más sofisticadas en áreas como la robótica, donde permiten la creación de máquinas más autónomas e inteligentes, y en la medicina, donde se utilizan para diagnósticos más precisos y tratamientos personalizados. Además, en la inteligencia artificial avanzada, están impulsando mejoras significativas en tareas como el procesamiento de lenguaje natural, la visión por computadora y la toma de decisiones en tiempo real. A medida que estas tecnologías se perfeccionan, el potencial de las redes neuronales para transformar industrias enteras es incalculable, abriendo la puerta a soluciones innovadoras en áreas que antes eran inalcanzables para los sistemas tradicionales.\n",
    "\n"
   ]
  }
 ],
 "metadata": {
  "colab": {
   "authorship_tag": "ABX9TyMU73b32UsNqrds7mqrjJlq",
   "provenance": []
  },
  "kernelspec": {
   "display_name": "Python 3",
   "name": "python3"
  },
  "language_info": {
   "codemirror_mode": {
    "name": "ipython",
    "version": 3
   },
   "file_extension": ".py",
   "mimetype": "text/x-python",
   "name": "python",
   "nbconvert_exporter": "python",
   "pygments_lexer": "ipython3",
   "version": "3.13.7"
  }
 },
 "nbformat": 4,
 "nbformat_minor": 0
}
